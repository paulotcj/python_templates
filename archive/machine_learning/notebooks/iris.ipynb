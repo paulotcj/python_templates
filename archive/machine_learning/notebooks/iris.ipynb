{
 "cells": [
  {
   "cell_type": "code",
   "execution_count": 15,
   "id": "3623e16e",
   "metadata": {},
   "outputs": [],
   "source": [
    "from sklearn.datasets import load_iris\n",
    "iris = load_iris()"
   ]
  },
  {
   "cell_type": "code",
   "execution_count": 16,
   "id": "ca7dc87c",
   "metadata": {},
   "outputs": [
    {
     "name": "stdout",
     "output_type": "stream",
     "text": [
      "['sepal length (cm)', 'sepal width (cm)', 'petal length (cm)', 'petal width (cm)']\n",
      "['setosa' 'versicolor' 'virginica']\n"
     ]
    }
   ],
   "source": [
    "#the idea here is, we provide data (x) which in this case is: Sepal length, Sepal width, Petal length, etc\n",
    "# and from this data, we need to estimate which type of flower we have: [0] Iris setosa, [1] Iris virginica, \n",
    "# [2] Iris versicolor\n",
    "x = iris.data\n",
    "y = iris.target #this is the answer we would be seeking by providing X\n",
    "feature_names = iris.feature_names\n",
    "target_names = iris.target_names\n",
    "print(feature_names)\n",
    "print(target_names)"
   ]
  },
  {
   "cell_type": "code",
   "execution_count": 17,
   "id": "8067772a",
   "metadata": {},
   "outputs": [
    {
     "name": "stdout",
     "output_type": "stream",
     "text": [
      "(90, 4)\n",
      "(60, 4)\n"
     ]
    }
   ],
   "source": [
    "from sklearn.model_selection import train_test_split\n",
    "x_train, x_test, y_train, y_test = train_test_split(x, y, test_size = 0.4)\n",
    "\n",
    "# Remember 'x' is the data and 'y' is the answer. To summarize what we are doing: if we provide N\n",
    "#  data samples (x) which contains many attributes, we expect to collect N answers (y)\n",
    "# And in this case, we get the universe of all f(x) = y , and we slice them. We could get 60% of f(x) = y to be\n",
    "#  utilized as training data, and the remaining 40% of the data to check the accuracy of the model we got\n",
    "print(x_train.shape)\n",
    "print(x_test.shape)"
   ]
  },
  {
   "cell_type": "code",
   "execution_count": 18,
   "id": "6ebd3397",
   "metadata": {},
   "outputs": [
    {
     "name": "stdout",
     "output_type": "stream",
     "text": [
      "0.9666666666666667\n"
     ]
    }
   ],
   "source": [
    "from sklearn.neighbors import KNeighborsClassifier\n",
    "knn = KNeighborsClassifier(n_neighbors = 3) #we have 3 types of flowers, so we want 3 neighbors\n",
    "knn.fit(x_train, y_train) #use the training data\n",
    "y_pred = knn.predict(x_test) #lets try to predict someting!\n",
    "\n",
    "from sklearn import metrics\n",
    "print( metrics.accuracy_score(y_test , y_pred) )"
   ]
  },
  {
   "cell_type": "code",
   "execution_count": 19,
   "id": "e60ab33b",
   "metadata": {},
   "outputs": [
    {
     "name": "stdout",
     "output_type": "stream",
     "text": [
      "predictions: ['versicolor', 'virginica']\n"
     ]
    }
   ],
   "source": [
    "sample = [[3,5,4,2],[2,3,5,4]]\n",
    "predictions = knn.predict(sample)\n",
    "pred_species = [ iris.target_names[p] for p in predictions ]\n",
    "print( f\"predictions: {pred_species}\" )"
   ]
  },
  {
   "cell_type": "code",
   "execution_count": 26,
   "id": "667eb0cd",
   "metadata": {},
   "outputs": [
    {
     "data": {
      "text/plain": [
       "['mlbrain.joblib']"
      ]
     },
     "execution_count": 26,
     "metadata": {},
     "output_type": "execute_result"
    }
   ],
   "source": [
    "# from sklearn.externals import joblib\n",
    "import joblib\n",
    "joblib.dump(knn, 'mlbrain.joblib')\n"
   ]
  },
  {
   "cell_type": "code",
   "execution_count": 27,
   "id": "9b49b3a7",
   "metadata": {},
   "outputs": [
    {
     "name": "stdout",
     "output_type": "stream",
     "text": [
      "predictions: ['versicolor', 'virginica']\n"
     ]
    }
   ],
   "source": [
    "model = joblib.load('mlbrain.joblib')\n",
    "model.predict(x_test)\n",
    "sample = [[3,5,4,2],[2,3,5,4]]\n",
    "predictions = model.predict(sample)\n",
    "pred_species = [ iris.target_names[p] for p in predictions ]\n",
    "print( f\"predictions: {pred_species}\" )"
   ]
  },
  {
   "cell_type": "code",
   "execution_count": null,
   "id": "a00d6a45",
   "metadata": {},
   "outputs": [],
   "source": []
  }
 ],
 "metadata": {
  "kernelspec": {
   "display_name": "Python 3 (ipykernel)",
   "language": "python",
   "name": "python3"
  },
  "language_info": {
   "codemirror_mode": {
    "name": "ipython",
    "version": 3
   },
   "file_extension": ".py",
   "mimetype": "text/x-python",
   "name": "python",
   "nbconvert_exporter": "python",
   "pygments_lexer": "ipython3",
   "version": "3.10.9"
  }
 },
 "nbformat": 4,
 "nbformat_minor": 5
}
